{
 "cells": [
  {
   "cell_type": "markdown",
   "metadata": {},
   "source": [
    "# First Load Stuff as Before\n",
    "\n",
    "Load stuff from previous tutorial!"
   ]
  },
  {
   "cell_type": "code",
   "execution_count": 1,
   "metadata": {},
   "outputs": [],
   "source": [
    "import kombu\n",
    "from kombu.utils.url import as_url\n",
    "url = as_url(scheme='amqp', host='rabbitmq', port=5672, user='guest', password='guest')\n",
    "conn = kombu.Connection(url)\n",
    "conn.connect()\n",
    "ch = conn.channel()"
   ]
  },
  {
   "cell_type": "markdown",
   "metadata": {},
   "source": [
    "# Create our queue which we want to consume from!"
   ]
  },
  {
   "cell_type": "code",
   "execution_count": 2,
   "metadata": {},
   "outputs": [],
   "source": [
    "queue = kombu.Queue(name='hello', durable=True)"
   ]
  },
  {
   "cell_type": "markdown",
   "metadata": {},
   "source": [
    "# Create callback that will be called everytime!\n",
    "\n",
    "Note: rabbitmq has message guarantees of `at-least once`. This is why\n",
    "every message has to be either `accepted` or `rejected`. Accepting a message\n",
    "removes the message from queue! But when rejecting a message, you can choose\n",
    "to either reqeueu it or to delete it forever!\n",
    "\n",
    "* ack\n",
    "* reject(True) - requeues the message\n",
    "* reject(False) - deletes the message"
   ]
  },
  {
   "cell_type": "code",
   "execution_count": 3,
   "metadata": {},
   "outputs": [],
   "source": [
    "def callback(body, msg):\n",
    "    print(body)\n",
    "    msg.ack()"
   ]
  },
  {
   "cell_type": "markdown",
   "metadata": {},
   "source": [
    "# Start Consumption\n",
    "\n",
    "To start consuming.. create a consumer and call `consume`!"
   ]
  },
  {
   "cell_type": "code",
   "execution_count": 8,
   "metadata": {},
   "outputs": [],
   "source": [
    "consumer = kombu.Consumer(channel=ch, queues=queue, callbacks=[callback])\n",
    "consumer.consume()"
   ]
  },
  {
   "cell_type": "markdown",
   "metadata": {},
   "source": [
    "# Drain Events\n",
    "\n",
    "Drain events on connection to process all events, therefore calling our provided `callback`"
   ]
  },
  {
   "cell_type": "code",
   "execution_count": 9,
   "metadata": {},
   "outputs": [
    {
     "name": "stdout",
     "output_type": "stream",
     "text": [
      "Hello, World!\n"
     ]
    }
   ],
   "source": [
    "conn.drain_events(timeout=1)"
   ]
  },
  {
   "cell_type": "code",
   "execution_count": null,
   "metadata": {},
   "outputs": [],
   "source": []
  }
 ],
 "metadata": {
  "kernelspec": {
   "display_name": "Python 3",
   "language": "python",
   "name": "python3"
  },
  "language_info": {
   "codemirror_mode": {
    "name": "ipython",
    "version": 3
   },
   "file_extension": ".py",
   "mimetype": "text/x-python",
   "name": "python",
   "nbconvert_exporter": "python",
   "pygments_lexer": "ipython3",
   "version": "3.6.5"
  }
 },
 "nbformat": 4,
 "nbformat_minor": 2
}
