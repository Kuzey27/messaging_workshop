{
 "cells": [
  {
   "cell_type": "markdown",
   "metadata": {},
   "source": [
    "# Problem\n",
    "\n",
    "CafeVan is an application in which users can use their\n",
    "phones to order Ice Creams! Yummy! The startup company\n",
    "has lots of IceCream vans all over the city..\n",
    "\n",
    "However, There has been recent complaints about driving\n",
    "habits of CafeVan drivers! Not only that.. CafeVan drivers\n",
    "have been asking for extra wage when they are in traffic..\n",
    "\n",
    "In order to migitate current operation problems, our CTO\n",
    "has a brillient idea of building monitoring apps on top\n",
    "of our current MicroService Architecture!\n",
    "\n",
    "Luckily for us.. The vans are all equipped with GPS tracker\n",
    "devices that send velocity of vehicle over time! We are tasked\n",
    "with building micro-services that penalties speeding drivers\n",
    "and gives bonus to drivers stuck in traffic!\n",
    "\n",
    "So we pick our laptops and head over to meeting room!\n",
    "\n",
    "* CTO: So we are going to build two new micro-services!\n",
    "* Confused Programmer: But we a single queue in which tracker information comes in?\n",
    "* CTO: heh! Didn't you know? RabbitMQ can do Publisher/Subscriber via fanouts!\n",
    "* Confused Programmer: Really? How Cool!\n",
    "* CTP: Yaah! I have a brillient idea.. Let's call our new microservices `overspeed` and `jammed`!\n",
    "\n",
    "So our beloved CTO heads over to describe what exchanges are!\n",
    "\n",
    "So.. We are going to headstart to exchanges and queues and\n",
    "describe various methods of communication RabbitMQ provides!\n",
    "\n",
    "Exchanges are like Post Offices... They distribute messages,\n",
    "and queues are PostBox'es... Typically you have 3 scenarios:\n",
    "\n",
    "1. You are a nosy little guy/gal who wants to know everything going on!\n",
    "2. You are an efficient guy/gal who wants to know a subset of information important to you.. like news about discounts in your district\n",
    "3. You are a lonely person who check your PostBox everyday for letters from your distant relatives!\n",
    "\n",
    "These typical situtations are manifested in:\n",
    "\n",
    "1. Fanout Exchanges: They distribute messages to every queue bound to them!\n",
    "2. Topic Exchanges: They distribute messages to queues whom match routing key!\n",
    "3. Direct Exchanges: They distribute messages only to designated queue\n",
    "\n",
    "So.. In our case.. We build our microservice architecture by first directing\n",
    "all our GPS data into a fanout exchange, and then define each microservice\n",
    "as a seperate **bound** queue to that fanout exchange!\n",
    "\n",
    "Finally.. we have a microservice called **punisher** which we send van information\n",
    "and amount (positive is punishment, negative is reward).\n",
    "\n",
    "## Question: Do you use Fanout or Direct exchanges for **punisher** microservice and why?\n",
    "\n",
    ":-?\n",
    "\n",
    "## Input\n",
    "\n",
    "The input stream is as follows: each message is a string encoded as `VanName:time:speed`. Time is measured as seconds passed after the initial release of application (we have our own epoch!‌:D)\n",
    "\n",
    "Sample Input is as follows:\n",
    "\n",
    "```\n",
    "A:10:40\n",
    "A:11:45\n",
    "...\n",
    "```\n",
    "\n",
    "## Output\n",
    "\n",
    "If a van is driving more than 60 km/h punish him/her with -1. If driving lower than 10km/h reward him/her with 1.\n",
    "\n",
    "So if a van is speeding, output `A:-1` which A is van name, and if is stuck in traffic, simply output `A:1` to punisher microservice!\n",
    "\n",
    "## Hint\n",
    "\n",
    "Exchanges can be defined and declared as follows:\n",
    "\n",
    "```\n",
    "exch = kombu.Exchange(name='van-speed', type='fanout', durable=True)\n",
    "queue = kombu.Queue(name='hello', exchange=exch, durable=True)\n",
    "\n",
    "exch(ch).declare()\n",
    "queue(ch).declare()\n",
    "```"
   ]
  },
  {
   "cell_type": "code",
   "execution_count": null,
   "metadata": {},
   "outputs": [],
   "source": [
    "input = ['A:0:10', 'A:1:20', 'A:2:5', 'A:3:5', 'A:4:35', 'A:4:60', 'B:0:40', 'B:1:50', 'B:2:60', 'B:3:70', 'B:4:75']"
   ]
  },
  {
   "cell_type": "markdown",
   "metadata": {},
   "source": [
    "# Setup Connection, Declare exchanges and Queues!"
   ]
  },
  {
   "cell_type": "markdown",
   "metadata": {},
   "source": [
    "# Publish input data to input queue!"
   ]
  },
  {
   "cell_type": "markdown",
   "metadata": {},
   "source": [
    "# Create **overspeed** microservice which responds to high velocities!"
   ]
  },
  {
   "cell_type": "markdown",
   "metadata": {},
   "source": [
    "# Create **jammed** microservice which responds to low velocities!"
   ]
  },
  {
   "cell_type": "code",
   "execution_count": null,
   "metadata": {},
   "outputs": [],
   "source": []
  }
 ],
 "metadata": {
  "kernelspec": {
   "display_name": "Python 3",
   "language": "python",
   "name": "python3"
  },
  "language_info": {
   "codemirror_mode": {
    "name": "ipython",
    "version": 3
   },
   "file_extension": ".py",
   "mimetype": "text/x-python",
   "name": "python",
   "nbconvert_exporter": "python",
   "pygments_lexer": "ipython3",
   "version": "3.6.5"
  }
 },
 "nbformat": 4,
 "nbformat_minor": 2
}
