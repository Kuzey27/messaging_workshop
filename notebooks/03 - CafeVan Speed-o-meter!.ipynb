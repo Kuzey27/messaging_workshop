{
 "cells": [
  {
   "cell_type": "markdown",
   "metadata": {},
   "source": [
    "# Problem\n",
    "\n",
    "CafeVan is an application in which users can use their\n",
    "phones to order Ice Creams! Yummy! The startup company\n",
    "has lots of IceCream vans all over the city..\n",
    "\n",
    "However, There has been recent complaints about driving\n",
    "habits of CafeVan drivers! Not only that.. CafeVan drivers\n",
    "have been asking for extra wage when they are in traffic..\n",
    "\n",
    "In order to migitate current operation problems, our CTO\n",
    "has a brillient idea of building monitoring apps on top\n",
    "of our current MicroService Architecture!\n",
    "\n",
    "Luckily for us.. The vans are all equipped with GPS tracker\n",
    "devices that send velocity of vehicle over time! We are tasked\n",
    "with building micro-services that penalties speeding drivers\n",
    "and gives bonus to drivers stuck in traffic!\n",
    "\n",
    "So we pick our laptops and head over to meeting room!\n",
    "\n",
    "* CTO: So we are going to build two new micro-services!\n",
    "* Confused Programmer: But we a single queue in which tracker information comes in?\n",
    "* CTO: heh! Didn't you know? RabbitMQ can do Publisher/Subscriber via fanouts!\n",
    "* Confused Programmer: Really? How Cool!\n",
    "* CTP: Yaah! I have a brillient idea.. Let's call our new microservices `overspeed` and `jammed`!\n",
    "\n",
    "So our beloved CTO heads over to describe what exchanges are!\n",
    "\n",
    "So.. We are going to headstart to exchanges and queues and\n",
    "describe various methods of communication RabbitMQ provides!\n",
    "\n",
    "Exchanges are like Post Offices... They distribute messages,\n",
    "and queues are PostBox'es... Typically you have 3 scenarios:\n",
    "\n",
    "1. You are a nosy little guy/gal who wants to know everything going on!\n",
    "2. You are an efficient guy/gal who wants to know a subset of information important to you.. like news about discounts in your district\n",
    "3. You are a lonely person who check your PostBox everyday for letters from your distant relatives!\n",
    "\n",
    "These typical situtations are manifested in:\n",
    "\n",
    "1. Fanout Exchanges: They distribute messages to every queue bound to them!\n",
    "2. Topic Exchanges: They distribute messages to queues whom match routing key!\n",
    "3. Direct Exchanges: They distribute messages only to designated queue\n",
    "\n",
    "So.. In our case.. We build our microservice architecture by first directing\n",
    "all our GPS data into a fanout exchange, and then define each microservice\n",
    "as a seperate **bound** queue to that fanout exchange!\n",
    "\n",
    "Finally.. we have a microservice called **punisher** which we send van information\n",
    "and amount (positive is punishment, negative is reward).\n",
    "\n",
    "## Question: Do you use Fanout or Direct exchanges for **punisher** microservice and why?\n",
    "\n",
    ":-?\n",
    "\n",
    "## Input\n",
    "\n",
    "The input stream is as follows: each message is a string encoded as `VanName:time:speed`. Time is measured as seconds passed after the initial release of application (we have our own epoch!‌:D)\n",
    "\n",
    "Sample Input is as follows:\n",
    "\n",
    "```\n",
    "A:10:40\n",
    "A:11:45\n",
    "...\n",
    "```\n",
    "\n",
    "## Output\n",
    "\n",
    "If a van is driving more than 60 km/h punish him/her with -1. If driving lower than 10km/h reward him/her with 1.\n",
    "\n",
    "So if a van is speeding, output `A:-1` which A is van name, and if is stuck in traffic, simply output `A:1` to punisher microservice!\n",
    "\n",
    "## Hint\n",
    "\n",
    "Exchanges can be defined and declared as follows:\n",
    "\n",
    "```\n",
    "exch = kombu.Exchange(name='van-speed', type='fanout', durable=True)\n",
    "queue = kombu.Queue(name='hello', exchange=exch, durable=True)\n",
    "\n",
    "exch(ch).declare()\n",
    "queue(ch).declare()\n",
    "```"
   ]
  },
  {
   "cell_type": "code",
   "execution_count": 1,
   "metadata": {},
   "outputs": [],
   "source": [
    "messages = ['A:0:10', 'A:1:20', 'A:2:5', 'A:3:5', 'A:4:35', 'A:4:60', 'B:0:40', 'B:1:50', 'B:2:60', 'B:3:70', 'B:4:75']"
   ]
  },
  {
   "cell_type": "markdown",
   "metadata": {},
   "source": [
    "# Setup Connection, Declare exchanges and Queues!"
   ]
  },
  {
   "cell_type": "code",
   "execution_count": 2,
   "metadata": {},
   "outputs": [],
   "source": [
    "import kombu\n",
    "from kombu.utils.url import as_url\n",
    "\n",
    "url = as_url(scheme='amqp', host='rabbitmq', port=5672, user='guest', password='guest')\n",
    "\n",
    "conn = kombu.Connection(url)\n",
    "conn.connect()\n",
    "\n",
    "ch = conn.channel()\n",
    "\n",
    "exch = kombu.Exchange(name='van-speed', type='fanout', durable=True)\n",
    "\n",
    "exch(ch).declare()\n",
    "\n",
    "producer = kombu.Producer(ch)"
   ]
  },
  {
   "cell_type": "markdown",
   "metadata": {},
   "source": [
    "# Publish input data to input queue!"
   ]
  },
  {
   "cell_type": "code",
   "execution_count": 11,
   "metadata": {},
   "outputs": [],
   "source": [
    "for msg in messages:\n",
    "    producer.publish(msg, delivery_mode=2, exchange=exch)"
   ]
  },
  {
   "cell_type": "markdown",
   "metadata": {},
   "source": [
    "# Create **overspeed** microservice which responds to high velocities!"
   ]
  },
  {
   "cell_type": "code",
   "execution_count": 4,
   "metadata": {},
   "outputs": [],
   "source": [
    "over_ch = conn.channel()\n",
    "over_queue = kombu.Queue(name='over', exchange=exch, durable=True)\n",
    "\n",
    "over_queue(ch).declare()\n",
    "\n",
    "def over_callback(body, msg):\n",
    "    print(f'over : {body}')\n",
    "    msg.ack()\n",
    "    \n",
    "over_consumer = kombu.Consumer(channel=over_ch, queues=over_queue, callbacks=[over_callback])\n",
    "over_consumer.consume()"
   ]
  },
  {
   "cell_type": "markdown",
   "metadata": {},
   "source": [
    "# Create **jammed** microservice which responds to low velocities!"
   ]
  },
  {
   "cell_type": "code",
   "execution_count": 9,
   "metadata": {},
   "outputs": [],
   "source": [
    "jamm_ch = conn.channel()\n",
    "jamm_queue = kombu.Queue(name='jamm', exchange=exch, durable=True)\n",
    "\n",
    "jamm_queue(ch).declare()\n",
    "\n",
    "def jamm_callback(body, msg):\n",
    "    print(f'jamm : {body}')\n",
    "    msg.ack()\n",
    "    \n",
    "jamm_consumer = kombu.Consumer(channel=jamm_ch, queues=jamm_queue, callbacks=[jamm_callback])\n",
    "jamm_consumer.consume()"
   ]
  },
  {
   "cell_type": "code",
   "execution_count": 12,
   "metadata": {},
   "outputs": [
    {
     "name": "stdout",
     "output_type": "stream",
     "text": [
      "jamm : A:0:10\n",
      "over : A:0:10\n",
      "jamm : A:1:20\n",
      "over : A:1:20\n",
      "over : A:2:5\n",
      "jamm : A:2:5\n",
      "over : A:3:5\n",
      "over : A:4:35\n",
      "jamm : A:4:35\n",
      "jamm : A:3:5\n",
      "jamm : B:0:40\n",
      "jamm : A:4:60\n",
      "jamm : B:1:50\n",
      "over : A:4:60\n",
      "over : B:0:40\n",
      "over : B:1:50\n",
      "jamm : B:3:70\n",
      "jamm : B:2:60\n",
      "jamm : B:4:75\n",
      "over : B:2:60\n",
      "over : B:3:70\n",
      "over : B:4:75\n"
     ]
    },
    {
     "ename": "timeout",
     "evalue": "timed out",
     "output_type": "error",
     "traceback": [
      "\u001b[0;31m---------------------------------------------------------------------------\u001b[0m",
      "\u001b[0;31mtimeout\u001b[0m                                   Traceback (most recent call last)",
      "\u001b[0;32m<ipython-input-12-fe8b6bae1c3c>\u001b[0m in \u001b[0;36m<module>\u001b[0;34m()\u001b[0m\n\u001b[1;32m      1\u001b[0m \u001b[0;32mwhile\u001b[0m \u001b[0;32mTrue\u001b[0m\u001b[0;34m:\u001b[0m\u001b[0;34m\u001b[0m\u001b[0m\n\u001b[0;32m----> 2\u001b[0;31m     \u001b[0mconn\u001b[0m\u001b[0;34m.\u001b[0m\u001b[0mdrain_events\u001b[0m\u001b[0;34m(\u001b[0m\u001b[0mtimeout\u001b[0m\u001b[0;34m=\u001b[0m\u001b[0;36m1\u001b[0m\u001b[0;34m)\u001b[0m\u001b[0;34m\u001b[0m\u001b[0m\n\u001b[0m",
      "\u001b[0;32m/opt/conda/lib/python3.6/site-packages/kombu/connection.py\u001b[0m in \u001b[0;36mdrain_events\u001b[0;34m(self, **kwargs)\u001b[0m\n\u001b[1;32m    299\u001b[0m             \u001b[0msocket\u001b[0m\u001b[0;34m.\u001b[0m\u001b[0mtimeout\u001b[0m\u001b[0;34m:\u001b[0m \u001b[0;32mif\u001b[0m \u001b[0mthe\u001b[0m \u001b[0mtimeout\u001b[0m \u001b[0;32mis\u001b[0m \u001b[0mexceeded\u001b[0m\u001b[0;34m.\u001b[0m\u001b[0;34m\u001b[0m\u001b[0m\n\u001b[1;32m    300\u001b[0m         \"\"\"\n\u001b[0;32m--> 301\u001b[0;31m         \u001b[0;32mreturn\u001b[0m \u001b[0mself\u001b[0m\u001b[0;34m.\u001b[0m\u001b[0mtransport\u001b[0m\u001b[0;34m.\u001b[0m\u001b[0mdrain_events\u001b[0m\u001b[0;34m(\u001b[0m\u001b[0mself\u001b[0m\u001b[0;34m.\u001b[0m\u001b[0mconnection\u001b[0m\u001b[0;34m,\u001b[0m \u001b[0;34m**\u001b[0m\u001b[0mkwargs\u001b[0m\u001b[0;34m)\u001b[0m\u001b[0;34m\u001b[0m\u001b[0m\n\u001b[0m\u001b[1;32m    302\u001b[0m \u001b[0;34m\u001b[0m\u001b[0m\n\u001b[1;32m    303\u001b[0m     \u001b[0;32mdef\u001b[0m \u001b[0mmaybe_close_channel\u001b[0m\u001b[0;34m(\u001b[0m\u001b[0mself\u001b[0m\u001b[0;34m,\u001b[0m \u001b[0mchannel\u001b[0m\u001b[0;34m)\u001b[0m\u001b[0;34m:\u001b[0m\u001b[0;34m\u001b[0m\u001b[0m\n",
      "\u001b[0;32m/opt/conda/lib/python3.6/site-packages/kombu/transport/pyamqp.py\u001b[0m in \u001b[0;36mdrain_events\u001b[0;34m(self, connection, **kwargs)\u001b[0m\n\u001b[1;32m    101\u001b[0m \u001b[0;34m\u001b[0m\u001b[0m\n\u001b[1;32m    102\u001b[0m     \u001b[0;32mdef\u001b[0m \u001b[0mdrain_events\u001b[0m\u001b[0;34m(\u001b[0m\u001b[0mself\u001b[0m\u001b[0;34m,\u001b[0m \u001b[0mconnection\u001b[0m\u001b[0;34m,\u001b[0m \u001b[0;34m**\u001b[0m\u001b[0mkwargs\u001b[0m\u001b[0;34m)\u001b[0m\u001b[0;34m:\u001b[0m\u001b[0;34m\u001b[0m\u001b[0m\n\u001b[0;32m--> 103\u001b[0;31m         \u001b[0;32mreturn\u001b[0m \u001b[0mconnection\u001b[0m\u001b[0;34m.\u001b[0m\u001b[0mdrain_events\u001b[0m\u001b[0;34m(\u001b[0m\u001b[0;34m**\u001b[0m\u001b[0mkwargs\u001b[0m\u001b[0;34m)\u001b[0m\u001b[0;34m\u001b[0m\u001b[0m\n\u001b[0m\u001b[1;32m    104\u001b[0m \u001b[0;34m\u001b[0m\u001b[0m\n\u001b[1;32m    105\u001b[0m     \u001b[0;32mdef\u001b[0m \u001b[0m_collect\u001b[0m\u001b[0;34m(\u001b[0m\u001b[0mself\u001b[0m\u001b[0;34m,\u001b[0m \u001b[0mconnection\u001b[0m\u001b[0;34m)\u001b[0m\u001b[0;34m:\u001b[0m\u001b[0;34m\u001b[0m\u001b[0m\n",
      "\u001b[0;32m/opt/conda/lib/python3.6/site-packages/amqp/connection.py\u001b[0m in \u001b[0;36mdrain_events\u001b[0;34m(self, timeout)\u001b[0m\n\u001b[1;32m    489\u001b[0m     \u001b[0;32mdef\u001b[0m \u001b[0mdrain_events\u001b[0m\u001b[0;34m(\u001b[0m\u001b[0mself\u001b[0m\u001b[0;34m,\u001b[0m \u001b[0mtimeout\u001b[0m\u001b[0;34m=\u001b[0m\u001b[0;32mNone\u001b[0m\u001b[0;34m)\u001b[0m\u001b[0;34m:\u001b[0m\u001b[0;34m\u001b[0m\u001b[0m\n\u001b[1;32m    490\u001b[0m         \u001b[0;31m# read until message is ready\u001b[0m\u001b[0;34m\u001b[0m\u001b[0;34m\u001b[0m\u001b[0m\n\u001b[0;32m--> 491\u001b[0;31m         \u001b[0;32mwhile\u001b[0m \u001b[0;32mnot\u001b[0m \u001b[0mself\u001b[0m\u001b[0;34m.\u001b[0m\u001b[0mblocking_read\u001b[0m\u001b[0;34m(\u001b[0m\u001b[0mtimeout\u001b[0m\u001b[0;34m)\u001b[0m\u001b[0;34m:\u001b[0m\u001b[0;34m\u001b[0m\u001b[0m\n\u001b[0m\u001b[1;32m    492\u001b[0m             \u001b[0;32mpass\u001b[0m\u001b[0;34m\u001b[0m\u001b[0m\n\u001b[1;32m    493\u001b[0m \u001b[0;34m\u001b[0m\u001b[0m\n",
      "\u001b[0;32m/opt/conda/lib/python3.6/site-packages/amqp/connection.py\u001b[0m in \u001b[0;36mblocking_read\u001b[0;34m(self, timeout)\u001b[0m\n\u001b[1;32m    494\u001b[0m     \u001b[0;32mdef\u001b[0m \u001b[0mblocking_read\u001b[0m\u001b[0;34m(\u001b[0m\u001b[0mself\u001b[0m\u001b[0;34m,\u001b[0m \u001b[0mtimeout\u001b[0m\u001b[0;34m=\u001b[0m\u001b[0;32mNone\u001b[0m\u001b[0;34m)\u001b[0m\u001b[0;34m:\u001b[0m\u001b[0;34m\u001b[0m\u001b[0m\n\u001b[1;32m    495\u001b[0m         \u001b[0;32mwith\u001b[0m \u001b[0mself\u001b[0m\u001b[0;34m.\u001b[0m\u001b[0mtransport\u001b[0m\u001b[0;34m.\u001b[0m\u001b[0mhaving_timeout\u001b[0m\u001b[0;34m(\u001b[0m\u001b[0mtimeout\u001b[0m\u001b[0;34m)\u001b[0m\u001b[0;34m:\u001b[0m\u001b[0;34m\u001b[0m\u001b[0m\n\u001b[0;32m--> 496\u001b[0;31m             \u001b[0mframe\u001b[0m \u001b[0;34m=\u001b[0m \u001b[0mself\u001b[0m\u001b[0;34m.\u001b[0m\u001b[0mtransport\u001b[0m\u001b[0;34m.\u001b[0m\u001b[0mread_frame\u001b[0m\u001b[0;34m(\u001b[0m\u001b[0;34m)\u001b[0m\u001b[0;34m\u001b[0m\u001b[0m\n\u001b[0m\u001b[1;32m    497\u001b[0m         \u001b[0;32mreturn\u001b[0m \u001b[0mself\u001b[0m\u001b[0;34m.\u001b[0m\u001b[0mon_inbound_frame\u001b[0m\u001b[0;34m(\u001b[0m\u001b[0mframe\u001b[0m\u001b[0;34m)\u001b[0m\u001b[0;34m\u001b[0m\u001b[0m\n\u001b[1;32m    498\u001b[0m \u001b[0;34m\u001b[0m\u001b[0m\n",
      "\u001b[0;32m/opt/conda/lib/python3.6/site-packages/amqp/transport.py\u001b[0m in \u001b[0;36mread_frame\u001b[0;34m(self, unpack)\u001b[0m\n\u001b[1;32m    241\u001b[0m         \u001b[0mread_frame_buffer\u001b[0m \u001b[0;34m=\u001b[0m \u001b[0mEMPTY_BUFFER\u001b[0m\u001b[0;34m\u001b[0m\u001b[0m\n\u001b[1;32m    242\u001b[0m         \u001b[0;32mtry\u001b[0m\u001b[0;34m:\u001b[0m\u001b[0;34m\u001b[0m\u001b[0m\n\u001b[0;32m--> 243\u001b[0;31m             \u001b[0mframe_header\u001b[0m \u001b[0;34m=\u001b[0m \u001b[0mread\u001b[0m\u001b[0;34m(\u001b[0m\u001b[0;36m7\u001b[0m\u001b[0;34m,\u001b[0m \u001b[0;32mTrue\u001b[0m\u001b[0;34m)\u001b[0m\u001b[0;34m\u001b[0m\u001b[0m\n\u001b[0m\u001b[1;32m    244\u001b[0m             \u001b[0mread_frame_buffer\u001b[0m \u001b[0;34m+=\u001b[0m \u001b[0mframe_header\u001b[0m\u001b[0;34m\u001b[0m\u001b[0m\n\u001b[1;32m    245\u001b[0m             \u001b[0mframe_type\u001b[0m\u001b[0;34m,\u001b[0m \u001b[0mchannel\u001b[0m\u001b[0;34m,\u001b[0m \u001b[0msize\u001b[0m \u001b[0;34m=\u001b[0m \u001b[0munpack\u001b[0m\u001b[0;34m(\u001b[0m\u001b[0;34m'>BHI'\u001b[0m\u001b[0;34m,\u001b[0m \u001b[0mframe_header\u001b[0m\u001b[0;34m)\u001b[0m\u001b[0;34m\u001b[0m\u001b[0m\n",
      "\u001b[0;32m/opt/conda/lib/python3.6/site-packages/amqp/transport.py\u001b[0m in \u001b[0;36m_read\u001b[0;34m(self, n, initial, _errnos)\u001b[0m\n\u001b[1;32m    416\u001b[0m             \u001b[0;32mwhile\u001b[0m \u001b[0mlen\u001b[0m\u001b[0;34m(\u001b[0m\u001b[0mrbuf\u001b[0m\u001b[0;34m)\u001b[0m \u001b[0;34m<\u001b[0m \u001b[0mn\u001b[0m\u001b[0;34m:\u001b[0m\u001b[0;34m\u001b[0m\u001b[0m\n\u001b[1;32m    417\u001b[0m                 \u001b[0;32mtry\u001b[0m\u001b[0;34m:\u001b[0m\u001b[0;34m\u001b[0m\u001b[0m\n\u001b[0;32m--> 418\u001b[0;31m                     \u001b[0ms\u001b[0m \u001b[0;34m=\u001b[0m \u001b[0mrecv\u001b[0m\u001b[0;34m(\u001b[0m\u001b[0mn\u001b[0m \u001b[0;34m-\u001b[0m \u001b[0mlen\u001b[0m\u001b[0;34m(\u001b[0m\u001b[0mrbuf\u001b[0m\u001b[0;34m)\u001b[0m\u001b[0;34m)\u001b[0m\u001b[0;34m\u001b[0m\u001b[0m\n\u001b[0m\u001b[1;32m    419\u001b[0m                 \u001b[0;32mexcept\u001b[0m \u001b[0msocket\u001b[0m\u001b[0;34m.\u001b[0m\u001b[0merror\u001b[0m \u001b[0;32mas\u001b[0m \u001b[0mexc\u001b[0m\u001b[0;34m:\u001b[0m\u001b[0;34m\u001b[0m\u001b[0m\n\u001b[1;32m    420\u001b[0m                     \u001b[0;32mif\u001b[0m \u001b[0mexc\u001b[0m\u001b[0;34m.\u001b[0m\u001b[0merrno\u001b[0m \u001b[0;32min\u001b[0m \u001b[0m_errnos\u001b[0m\u001b[0;34m:\u001b[0m\u001b[0;34m\u001b[0m\u001b[0m\n",
      "\u001b[0;31mtimeout\u001b[0m: timed out"
     ]
    }
   ],
   "source": [
    "while True:\n",
    "    conn.drain_events(timeout=1)"
   ]
  },
  {
   "cell_type": "code",
   "execution_count": null,
   "metadata": {},
   "outputs": [],
   "source": []
  }
 ],
 "metadata": {
  "kernelspec": {
   "display_name": "Python 3",
   "language": "python",
   "name": "python3"
  },
  "language_info": {
   "codemirror_mode": {
    "name": "ipython",
    "version": 3
   },
   "file_extension": ".py",
   "mimetype": "text/x-python",
   "name": "python",
   "nbconvert_exporter": "python",
   "pygments_lexer": "ipython3",
   "version": "3.6.5"
  }
 },
 "nbformat": 4,
 "nbformat_minor": 2
}
